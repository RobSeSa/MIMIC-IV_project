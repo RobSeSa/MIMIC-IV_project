{
  "nbformat": 4,
  "nbformat_minor": 0,
  "metadata": {
    "colab": {
      "name": "CSE 244B Project: Medical Code Prediction MIMIC-IV.ipynb",
      "provenance": [],
      "authorship_tag": "ABX9TyO8/i62iEmmYtnf28B2Tca4",
      "include_colab_link": true
    },
    "kernelspec": {
      "name": "python3",
      "display_name": "Python 3"
    },
    "language_info": {
      "name": "python"
    }
  },
  "cells": [
    {
      "cell_type": "markdown",
      "metadata": {
        "id": "view-in-github",
        "colab_type": "text"
      },
      "source": [
        "<a href=\"https://colab.research.google.com/github/RobSeSa/MIMIC-IV_project/blob/main/CSE_244B_Project_Medical_Code_Prediction_MIMIC_IV.ipynb\" target=\"_parent\"><img src=\"https://colab.research.google.com/assets/colab-badge.svg\" alt=\"Open In Colab\"/></a>"
      ]
    },
    {
      "cell_type": "markdown",
      "source": [
        "#Medical Code Prediction MIMIC-IV\n",
        "Robert Sato\n",
        "\n",
        "Dr. Xin Wang\n",
        "\n",
        "\u0010CSE 244B - Natural Language Processing\n",
        "\n",
        "Winter 2022"
      ],
      "metadata": {
        "id": "IIQBM7m8UckW"
      }
    },
    {
      "cell_type": "markdown",
      "source": [
        "**Plan**\n",
        "- setup environment\n",
        "    - setup github for this notebook\n",
        "    - do not let the data be publicly accessible\n",
        "- data analysis/preprocessing\n",
        "    - understand the structure of the data\n",
        "    - load into a readable/pliable format (pandas)\n",
        "    - visualize some of the data\n",
        "    - find the clinical notes\n",
        "    - find the codes corresponding to the clinical notes (labels)\n",
        "    - helper functions\n",
        "        - create dataset (X, y)\n",
        "            - shuffled randomized w validation split\n",
        "    "
      ],
      "metadata": {
        "id": "SSSLIyTZV1i8"
      }
    },
    {
      "cell_type": "code",
      "execution_count": 1,
      "metadata": {
        "colab": {
          "base_uri": "https://localhost:8080/"
        },
        "id": "AT5ZAtkdToE7",
        "outputId": "0234412a-3738-4396-83d7-7974fdd5bf96"
      },
      "outputs": [
        {
          "output_type": "stream",
          "name": "stdout",
          "text": [
            "Mounted at /content/gdrive\n"
          ]
        }
      ],
      "source": [
        "from google.colab import drive\n",
        "drive.mount(\"/content/gdrive\")"
      ]
    },
    {
      "cell_type": "markdown",
      "source": [
        "## Load the Data\n",
        "- looking for noteevents from MIMIC-III\n",
        "- renamed in MIMIC-IV?"
      ],
      "metadata": {
        "id": "cfOZb1ydVKvd"
      }
    },
    {
      "cell_type": "code",
      "source": [
        "data_path = \"/content/gdrive/MyDrive/CSE_244B_W2022/project/mimic-iv-1.0/\""
      ],
      "metadata": {
        "id": "KMDortreUHcD"
      },
      "execution_count": 2,
      "outputs": []
    },
    {
      "cell_type": "code",
      "source": [
        "!ls $data_path"
      ],
      "metadata": {
        "colab": {
          "base_uri": "https://localhost:8080/"
        },
        "id": "Zjiv8ZHUUHeT",
        "outputId": "1ae72bdf-3307-429b-a829-7fefa40f50d6"
      },
      "execution_count": 3,
      "outputs": [
        {
          "output_type": "stream",
          "name": "stdout",
          "text": [
            "core  hosp  icu  LICENSE.txt  SHA256SUMS.txt\n"
          ]
        }
      ]
    },
    {
      "cell_type": "code",
      "source": [
        ""
      ],
      "metadata": {
        "id": "a2SmgHqcUHgn"
      },
      "execution_count": null,
      "outputs": []
    }
  ]
}